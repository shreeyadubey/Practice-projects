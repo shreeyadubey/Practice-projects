{
 "cells": [
  {
   "cell_type": "code",
   "execution_count": null,
   "metadata": {},
   "outputs": [],
   "source": [
    "# Importing Libraries\n",
    "import selenium\n",
    "import pandas as pd\n",
    "import time\n",
    "from bs4 import BeautifulSoup\n",
    "\n",
    "# Importing selenium webdriver \n",
    "from selenium import webdriver\n",
    "\n",
    "# Importing required Exceptions which needs to handled\n",
    "from selenium.common.exceptions import StaleElementReferenceException, NoSuchElementException\n",
    "\n",
    "#Importing requests\n",
    "import requests\n",
    "\n",
    "# importing regex\n",
    "import re"
   ]
  },
  {
   "cell_type": "markdown",
   "metadata": {},
   "source": [
    "Q1. Scrape the details of most viewed videos on YouTube from Wikipedia:\n",
    "Url = https://en.wikipedia.org/wiki/List_of_most-viewed_YouTube_videos/\n",
    "You need to find following details:\n",
    "* A) Rank\n",
    "* B) Name\n",
    "* C) Artist\n",
    "* D) Upload date\n",
    "* E) Views"
   ]
  },
  {
   "cell_type": "code",
   "execution_count": null,
   "metadata": {},
   "outputs": [],
   "source": [
    "# Activating the chrome browser\n",
    "driver=webdriver.Chrome(r\"C:\\Users\\Shreeya.Dubey\\Downloads\\chromedriver.exe\") \n"
   ]
  },
  {
   "cell_type": "code",
   "execution_count": null,
   "metadata": {},
   "outputs": [],
   "source": [
    "# Opening the wikipedia\n",
    "url = \"https://en.wikipedia.org/wiki/List_of_most-viewed_YouTube_videos/\"\n",
    "driver.get(url)"
   ]
  },
  {
   "cell_type": "code",
   "execution_count": null,
   "metadata": {},
   "outputs": [],
   "source": [
    "#opening the search bar\n",
    "link = driver.find_element_by_xpath(\"/html/body/div[3]/div[3]/div[5]/div[1]/table/tbody/tr/td/span/a\")\n",
    "link.click()"
   ]
  },
  {
   "cell_type": "code",
   "execution_count": null,
   "metadata": {},
   "outputs": [],
   "source": [
    "#clicking the link: most viewed videos\n",
    "link = driver.find_element_by_xpath(\"/html/body/div[3]/div[3]/div[4]/div[3]/ul/li[1]/div[1]/a\")\n",
    "link.click()"
   ]
  },
  {
   "cell_type": "code",
   "execution_count": null,
   "metadata": {},
   "outputs": [],
   "source": [
    "#make empty listes\n",
    "rank = [] \n",
    "name = [] \n",
    "artist = [] \n",
    "upload_date = [] \n",
    "views = []"
   ]
  },
  {
   "cell_type": "code",
   "execution_count": null,
   "metadata": {},
   "outputs": [],
   "source": [
    "while(True):\n",
    "    #scraping rank\n",
    "    rank= driver.find_elements_by_xpath(\"//div[@class='age']//div\")\n",
    "    for i in rank:\n",
    "        rank.append(i.text)"
   ]
  },
  {
   "cell_type": "code",
   "execution_count": null,
   "metadata": {},
   "outputs": [],
   "source": [
    "#scraping name \n",
    "    name= driver.find_elements_by_xpath(\"//a[@class='mw-content-text']\")\n",
    "    for i in name:\n",
    "        name.append(i.text)"
   ]
  },
  {
   "cell_type": "code",
   "execution_count": null,
   "metadata": {},
   "outputs": [],
   "source": [
    "#scraping Artist\n",
    "    artist= driver.find_elements_by_xpath(\"//div[@class='age']//div\")\n",
    "    for i in artist:\n",
    "        artist.append(i.text)   "
   ]
  },
  {
   "cell_type": "code",
   "execution_count": null,
   "metadata": {},
   "outputs": [],
   "source": [
    "#scraping upload_date\n",
    "    upload_date= driver.find_elements_by_xpath(\"//div[@class='personName']//div\")\n",
    "    for i in upload_date:\n",
    "        upload_date.append(i.text)"
   ]
  },
  {
   "cell_type": "code",
   "execution_count": null,
   "metadata": {},
   "outputs": [],
   "source": [
    "#scraping views\n",
    "    views= driver.find_elements_by_xpath(\"//div[@class='personName']//div\")\n",
    "    for i in views:\n",
    "        views.append(i.text)"
   ]
  },
  {
   "cell_type": "code",
   "execution_count": null,
   "metadata": {},
   "outputs": [],
   "source": [
    "df=pd.DataFrame({\"Rank\":rank,\n",
    "                \"Name\":name,\n",
    "                \"Artist\":artist,\n",
    "                \"Upload_date\":upload_date,\n",
    "                \"Views\":views\n",
    "df"
   ]
  },
  {
   "cell_type": "markdown",
   "metadata": {},
   "source": [
    "Q2. Scrape the details team India’s international fixtures from bcci.tv. Url = https://www.bcci.tv/. You need to find following details:\n",
    "A) Match title (I.e. 1st ODI)\n",
    "B) Series\n",
    "C) Place\n",
    "D) Date\n",
    "E) Time\n",
    "Note: - From bcci.tv home page you have reach to the international fixture page through code."
   ]
  },
  {
   "cell_type": "code",
   "execution_count": null,
   "metadata": {},
   "outputs": [],
   "source": [
    "# Activating the chrome browser\n",
    "driver=webdriver.Chrome(r\"C:\\Users\\Shreeya.Dubey\\Downloads\\chromedriver.exe\") "
   ]
  },
  {
   "cell_type": "code",
   "execution_count": null,
   "metadata": {},
   "outputs": [],
   "source": [
    "# Opening the BCCI.tv page\n",
    "url = \"https://www.bcci.tv/\"\n",
    "driver.get(url)"
   ]
  },
  {
   "cell_type": "code",
   "execution_count": null,
   "metadata": {},
   "outputs": [],
   "source": [
    "#clicking the 'international' link\n",
    "link = driver.find_element_by_xpath(\"/html/body/div[3]/div/div[2]/div[2]/nav/ul/li[1]/div[2]\")\n",
    "link.click()"
   ]
  },
  {
   "cell_type": "code",
   "execution_count": null,
   "metadata": {},
   "outputs": [],
   "source": [
    "#clicking the link\n",
    "link = driver.find_element_by_xpath(\"/html/body/div[3]/div/div[2]/div[2]/nav/ul/li[1]/div[2]/div/ul/li[1]/a\")\n",
    "link.click()"
   ]
  },
  {
   "cell_type": "code",
   "execution_count": null,
   "metadata": {},
   "outputs": [],
   "source": [
    "#make empty lists\n",
    "Match_title = [] \n",
    "Series = [] \n",
    "Place = [] \n",
    "Date = [] \n",
    "Time = []"
   ]
  },
  {
   "cell_type": "code",
   "execution_count": null,
   "metadata": {},
   "outputs": [],
   "source": [
    "while(True):\n",
    "    #match title\n",
    "    match_title= driver.find_elements_by_xpath(\"//strong[@class='class=fixture__name fixture__name--with-margin']\")\n",
    "    for i in match_title:\n",
    "        match_title.append(i.text)"
   ]
  },
  {
   "cell_type": "code",
   "execution_count": null,
   "metadata": {},
   "outputs": [],
   "source": [
    "#scraping series\n",
    "    series= driver.find_elements_by_xpath(\"//div[@class='/html/body/div[4]/div/div/div[2]/section/div/div/a[1]/div[2]/div[1]/span[2]']\")\n",
    "    for i in series:\n",
    "        series.append(i.text)"
   ]
  },
  {
   "cell_type": "code",
   "execution_count": null,
   "metadata": {},
   "outputs": [],
   "source": [
    "#place\n",
    "    place= driver.find_elements_by_xpath(\"//div[@class='age']//div\")\n",
    "    for i in place:\n",
    "        place.append(i.text)   "
   ]
  },
  {
   "cell_type": "code",
   "execution_count": null,
   "metadata": {},
   "outputs": [],
   "source": [
    "#date\n",
    "    date= driver.find_elements_by_xpath(\"//div[@class='personName']//div\")\n",
    "    for i in date:\n",
    "        date.append(i.text)"
   ]
  },
  {
   "cell_type": "code",
   "execution_count": null,
   "metadata": {},
   "outputs": [],
   "source": [
    "#scraping time\n",
    "    time= driver.find_elements_by_xpath(\"//div[@class='personName']//div\")\n",
    "    for i in time:\n",
    "        time.append(i.text)"
   ]
  },
  {
   "cell_type": "code",
   "execution_count": null,
   "metadata": {},
   "outputs": [],
   "source": [
    "df=pd.DataFrame({\"Match_Title\":match_title,\n",
    "                \"Series\":series,\n",
    "                \"Place\":place,\n",
    "                \"Date\":date,\n",
    "                \"Time\":time\n",
    "df"
   ]
  },
  {
   "cell_type": "markdown",
   "metadata": {},
   "source": [
    "Q3. Scrape the details of selenium exception from guru99.com. Url = https://www.guru99.com/ You need to find following details:\n",
    "A) Name\n",
    "B) Description\n",
    "Note: - From guru99 home page you have to reach to selenium exception handling page through code.\n"
   ]
  },
  {
   "cell_type": "code",
   "execution_count": null,
   "metadata": {},
   "outputs": [],
   "source": [
    "# Activating the chrome browser\n",
    "driver=webdriver.Chrome(r\"C:\\Users\\Shreeya.Dubey\\Downloads\\chromedriver.exe\") "
   ]
  },
  {
   "cell_type": "code",
   "execution_count": null,
   "metadata": {},
   "outputs": [],
   "source": [
    "# Opening the guru99.come\n",
    "url = \"https://www.guru99.com/\"\n",
    "driver.get(url)"
   ]
  },
  {
   "cell_type": "code",
   "execution_count": null,
   "metadata": {},
   "outputs": [],
   "source": [
    "search_bar = driver.find_element_by_xpath('/html/body/div[2]/section[3]/div/div/div/div/div/div/div/div[2]/div/div[1]/div/div/div/form/table/tbody/tr/td[1]/div/table/tbody/tr/td[1]/input')    # Finding the search bar using it's xpath\n",
    "search_bar.send_keys(\"selenium exception handling\")       # Inputing the keywords\n",
    "search_button = driver.find_element_by_xpath('/html/body/div[2]/section[3]/div/div/div/div/div/div/div/div[2]/div/div[1]/div/div/div/form/table/tbody/tr/td[2]/button')    # Finding the xpath of search button\n",
    "search_button.click()        # Clicking the search button"
   ]
  },
  {
   "cell_type": "code",
   "execution_count": null,
   "metadata": {},
   "outputs": [],
   "source": [
    "#clicking the 'selenium exception handling' link\n",
    "link = driver.find_element_by_xpath(\"/html/body/div[2]/section[3]/div/div/div/div/div/div/div/div[2]/div/div[1]/div/div/div/div[1]/div[6]/div[2]/div/div/div[1]/div[1]/div[1]/div[1]/div/a/b\")\n",
    "link.click()"
   ]
  },
  {
   "cell_type": "code",
   "execution_count": null,
   "metadata": {},
   "outputs": [],
   "source": [
    "#make empty lists\n",
    "name = [] \n",
    "description = [] "
   ]
  },
  {
   "cell_type": "code",
   "execution_count": null,
   "metadata": {},
   "outputs": [],
   "source": [
    "//*[@id=\"g-mainbar\"]/div/div/div/div/div/div/div[2]/table/tbody/tr[2]/td[2]/text()"
   ]
  },
  {
   "cell_type": "code",
   "execution_count": null,
   "metadata": {},
   "outputs": [],
   "source": [
    "#name\n",
    "name= driver.find_elements_by_xpath(\"//tr[@id='g-mainbar']\")\n",
    "for i in name:\n",
    "        name.append(i.text)"
   ]
  },
  {
   "cell_type": "code",
   "execution_count": null,
   "metadata": {},
   "outputs": [],
   "source": [
    "#description\n",
    "description= driver.find_elements_by_xpath(\"//tr[@id='g-mainbar']\")\n",
    "for i in description:\n",
    "        description.append(i.text)"
   ]
  },
  {
   "cell_type": "code",
   "execution_count": null,
   "metadata": {},
   "outputs": [],
   "source": [
    "df=pd.DataFrame({\"Name\":name,\n",
    "                \"Description\":description,\n",
    "df"
   ]
  },
  {
   "cell_type": "markdown",
   "metadata": {},
   "source": [
    "Q4. Scrape the details of State-wise GDP of India from statisticstime.com.\n",
    "Url = http://statisticstimes.com/\n",
    "You have to find following details:\n",
    "A) Rank\n",
    "B) State\n",
    "C) GSDP at current price (19-20)\n",
    "D) GSDP at current price (18-19)\n",
    "E) Share(18-19)\n",
    "F) GDP($ billion)\n",
    "Note: - From statisticstimes home page you have to reach to economy page through code."
   ]
  },
  {
   "cell_type": "code",
   "execution_count": null,
   "metadata": {},
   "outputs": [],
   "source": [
    "# Activating the chrome browser\n",
    "driver=webdriver.Chrome(r\"C:\\Users\\Shreeya.Dubey\\Downloads\\chromedriver.exe\") "
   ]
  },
  {
   "cell_type": "code",
   "execution_count": null,
   "metadata": {},
   "outputs": [],
   "source": [
    "# Opening the statistics.com\n",
    "url = \"http://statisticstimes.com/\"\n",
    "driver.get(url)"
   ]
  },
  {
   "cell_type": "code",
   "execution_count": null,
   "metadata": {},
   "outputs": [],
   "source": [
    "#Hovering the economy button\n",
    "link = driver.find_element_by_xpath(\"/html/body/div[2]/div[1]/div[2]/div[2]/button\")\n",
    "link.click()"
   ]
  },
  {
   "cell_type": "code",
   "execution_count": null,
   "metadata": {},
   "outputs": [],
   "source": [
    "#clicking the India link\n",
    "link = driver.find_element_by_xpath(\"/html/body/div[2]/div[1]/div[2]/div[2]/div/a[3]\")\n",
    "link.click()"
   ]
  },
  {
   "cell_type": "code",
   "execution_count": null,
   "metadata": {},
   "outputs": [],
   "source": [
    "#clicking the GDP of India States link\n",
    "link = driver.find_element_by_xpath(\"/html/body/div[2]/div[2]/div[2]/ul/li[1]/a\")\n",
    "link.click()"
   ]
  },
  {
   "cell_type": "code",
   "execution_count": null,
   "metadata": {},
   "outputs": [],
   "source": [
    "#make empty lists\n",
    "rank = [] \n",
    "State = [] \n",
    "GSDP_price_last_year  = [] \n",
    "GSDP_price_last_to_last_year = [] \n",
    "Share_last_to_last_year = []\n",
    "GDP = []"
   ]
  },
  {
   "cell_type": "code",
   "execution_count": null,
   "metadata": {},
   "outputs": [],
   "source": [
    "odd"
   ]
  },
  {
   "cell_type": "code",
   "execution_count": null,
   "metadata": {},
   "outputs": [],
   "source": [
    "#rank\n",
    "rank= driver.find_elements_by_xpath(\"//tr[@class='odd']\")\n",
    "for i in rank:\n",
    "    rank.append(i.text)"
   ]
  },
  {
   "cell_type": "code",
   "execution_count": null,
   "metadata": {},
   "outputs": [],
   "source": [
    "#State\n",
    "    State= driver.find_elements_by_xpath(\"//tr[@class='odd\")\n",
    "    for i in State:\n",
    "        State.append(i.text)"
   ]
  },
  {
   "cell_type": "code",
   "execution_count": null,
   "metadata": {},
   "outputs": [],
   "source": [
    "#GSDP_price_last_year\n",
    "    GSDP_price_last_year= driver.find_elements_by_xpath(\"//div[@class='age']//div\")\n",
    "    for i in GSDP_price_last_year:\n",
    "        GSDP_price_last_year.append(i.text)   "
   ]
  },
  {
   "cell_type": "code",
   "execution_count": null,
   "metadata": {},
   "outputs": [],
   "source": [
    "#GSDP_price_last_to_last_year\n",
    "    GSDP_price_last_to_last_year= driver.find_elements_by_xpath(\"//div[@class='personName']//div\")\n",
    "    for i in GSDP_price_last_to_last_year:\n",
    "        GSDP_price_last_to_last_year.append(i.text)"
   ]
  },
  {
   "cell_type": "code",
   "execution_count": null,
   "metadata": {},
   "outputs": [],
   "source": [
    "#Share_last_to_last_year\n",
    "    Share_last_to_last_year= driver.find_elements_by_xpath(\"//div[@class='personName']//div\")\n",
    "    for i in Share_last_to_last_year:\n",
    "        Share_last_to_last_year.append(i.text)"
   ]
  },
  {
   "cell_type": "code",
   "execution_count": null,
   "metadata": {},
   "outputs": [],
   "source": [
    "#GDP\n",
    "    GDP= driver.find_elements_by_xpath(\"//div[@class='/html/body/div[4]/div/div/div[2]/section/div/div/a[1]/div[2]/div[1]/span[2]']\")\n",
    "    for i in GDP:\n",
    "        GDP.append(i.text)"
   ]
  },
  {
   "cell_type": "code",
   "execution_count": null,
   "metadata": {},
   "outputs": [],
   "source": [
    "df=pd.DataFrame({\"Rank\":rank,\n",
    "                \"State\":state,\n",
    "                \"GSDP_price_last_year\":GSDP_price_last_year,\n",
    "                \"GSDP_price_last_to_last_year\":GSDP_price_last_to_last_year,\n",
    "                \"Share_last_to_last_year\":Share_last_to_last_year,\n",
    "                 \"GDP\":GDP\n",
    "df"
   ]
  },
  {
   "cell_type": "markdown",
   "metadata": {},
   "source": [
    "Q5. Scrape the details of trending repositories on Github.com.\n",
    "Url = https://github.com/\n",
    "You have to find the following details:\n",
    "A) Repository title\n",
    "B) Repository description\n",
    "C) Contributors count\n",
    "D) Language used\n",
    "Note: - From the home page you have to click on the trending option from Explore menu through code."
   ]
  },
  {
   "cell_type": "code",
   "execution_count": null,
   "metadata": {},
   "outputs": [],
   "source": [
    "# Activating the chrome browser\n",
    "driver=webdriver.Chrome(r\"C:\\Users\\Shreeya.Dubey\\Downloads\\chromedriver.exe\") "
   ]
  },
  {
   "cell_type": "code",
   "execution_count": null,
   "metadata": {},
   "outputs": [],
   "source": [
    "# Opening the github.com\n",
    "url = \"https://github.com/\"\n",
    "driver.get(url)"
   ]
  },
  {
   "cell_type": "code",
   "execution_count": null,
   "metadata": {},
   "outputs": [],
   "source": [
    "#clicking the 'explore' link\n",
    "link = driver.find_element_by_xpath(\"/html/body/div[1]/header/div/div[2]/nav/ul/li[4]/details/summary\")\n",
    "link.click()"
   ]
  },
  {
   "cell_type": "code",
   "execution_count": null,
   "metadata": {},
   "outputs": [],
   "source": [
    "#clicking the 'trending' link\n",
    "link = driver.find_element_by_xpath(\"/html/body/div[1]/header/div/div[2]/nav/ul/li[4]/details/div/ul[2]/li[3]/a\")\n",
    "link.click()"
   ]
  },
  {
   "cell_type": "code",
   "execution_count": null,
   "metadata": {},
   "outputs": [],
   "source": [
    "#make empty lists\n",
    "repository_Title = [] \n",
    "repository_description = [] \n",
    "contributors_count = [] \n",
    "language_used = [] "
   ]
  },
  {
   "cell_type": "code",
   "execution_count": null,
   "metadata": {},
   "outputs": [],
   "source": [
    "while(True):\n",
    "    #repository_Title\n",
    "    repository_Title= driver.find_elements_by_xpath(\"//a[@class='js-selected-navigation-item selected subnav-item']\")\n",
    "    for i in repository_Title:\n",
    "        repository_Title.append(i.text)"
   ]
  },
  {
   "cell_type": "code",
   "execution_count": null,
   "metadata": {},
   "outputs": [],
   "source": [
    "#Repository_description\n",
    "    repository_description= driver.find_elements_by_xpath(\"//div[@class='/html/body/div[4]/div/div/div[2]/section/div/div/a[1]/div[2]/div[1]/span[2]']\")\n",
    "    for i in repository_description:\n",
    "        repository_description.append(i.text)"
   ]
  },
  {
   "cell_type": "code",
   "execution_count": null,
   "metadata": {},
   "outputs": [],
   "source": [
    "#Contributors_count\n",
    "    contributors_count= driver.find_elements_by_xpath(\"//div[@class='age']//div\")\n",
    "    for i in contributors_count:\n",
    "        contributors_count.append(i.text)   "
   ]
  },
  {
   "cell_type": "code",
   "execution_count": null,
   "metadata": {},
   "outputs": [],
   "source": [
    "#Language_used\n",
    "    language_used= driver.find_elements_by_xpath(\"//div[@class='personName']//div\")\n",
    "    for i in language_used:\n",
    "        language_used.append(i.text)"
   ]
  },
  {
   "cell_type": "code",
   "execution_count": null,
   "metadata": {},
   "outputs": [],
   "source": [
    "df=pd.DataFrame({\"Repository_Title\":repository_Title,\n",
    "                \"Repository_description\":repository_description,\n",
    "                \"Contributors_count\":contributors_count,\n",
    "                \"Language_used\":language_used\n",
    "df"
   ]
  },
  {
   "cell_type": "markdown",
   "metadata": {},
   "source": [
    "Q6. Scrape the details of top 100 songs on billboard.com.\n",
    "Url = https://www.billboard.com/\n",
    "You have to find the following details:\n",
    "A) Song name\n",
    "B) Artist name\n",
    "C) Last week rank\n",
    "D) Peak rank\n",
    "E) Weeks on board\n",
    "Note: - From the home page you have to click on the charts option then hot 100-page link through code.\n"
   ]
  },
  {
   "cell_type": "code",
   "execution_count": null,
   "metadata": {},
   "outputs": [],
   "source": [
    "# Activating the chrome browser\n",
    "driver=webdriver.Chrome(r\"C:\\Users\\Shreeya.Dubey\\Downloads\\chromedriver.exe\") "
   ]
  },
  {
   "cell_type": "code",
   "execution_count": null,
   "metadata": {},
   "outputs": [],
   "source": [
    "# Opening the billboard.come\n",
    "url = \"https://www.billboard.com/\"\n",
    "driver.get(url)"
   ]
  },
  {
   "cell_type": "code",
   "execution_count": null,
   "metadata": {},
   "outputs": [],
   "source": [
    "#clicking the 'chart' link\n",
    "link = driver.find_element_by_xpath(\"/html/body/div[2]/div[2]/div[2]/header/div/ul/li[1]/a\")\n",
    "link.click()"
   ]
  },
  {
   "cell_type": "code",
   "execution_count": null,
   "metadata": {},
   "outputs": [],
   "source": [
    "#clicking the 'hot 100--->view chart' link\n",
    "link = driver.find_element_by_xpath(\"/html/body/main/div[2]/div/div[1]/a/div[2]/div[2]/div[1]\")\n",
    "link.click()"
   ]
  },
  {
   "cell_type": "code",
   "execution_count": null,
   "metadata": {},
   "outputs": [],
   "source": [
    "#make empty lists\n",
    "song_name = [] \n",
    "artist_name = [] \n",
    "last_week_rank = [] \n",
    "peak_rank = [] \n",
    "weeks_on_board = []"
   ]
  },
  {
   "cell_type": "code",
   "execution_count": null,
   "metadata": {},
   "outputs": [],
   "source": [
    "while(True):\n",
    "#Song_name\n",
    "    song_name= driver.find_elements_by_xpath(\"//a[@class='js-selected-navigation-item selected subnav-item']\")\n",
    "    for i in song_name:\n",
    "        song_name.append(i.text)"
   ]
  },
  {
   "cell_type": "code",
   "execution_count": null,
   "metadata": {},
   "outputs": [],
   "source": [
    "#Artist_name\n",
    "    artist_name= driver.find_elements_by_xpath(\"//div[@class='/html/body/div[4]/div/div/div[2]/section/div/div/a[1]/div[2]/div[1]/span[2]']\")\n",
    "    for i in artist_name:\n",
    "        artist_name.append(i.text)"
   ]
  },
  {
   "cell_type": "code",
   "execution_count": null,
   "metadata": {},
   "outputs": [],
   "source": [
    "#Last_week_rank\n",
    "    last_week_rank= driver.find_elements_by_xpath(\"//div[@class='age']//div\")\n",
    "    for i in last_week_rank:\n",
    "        last_week_rank.append(i.text)   "
   ]
  },
  {
   "cell_type": "code",
   "execution_count": null,
   "metadata": {},
   "outputs": [],
   "source": [
    "#Peak_rank\n",
    "    peak_rank= driver.find_elements_by_xpath(\"//div[@class='personName']//div\")\n",
    "    for i in peak_rank:\n",
    "        peak_rank.append(i.text)"
   ]
  },
  {
   "cell_type": "code",
   "execution_count": null,
   "metadata": {},
   "outputs": [],
   "source": [
    "#Weeks_on_board\n",
    "    weeks_on_board= driver.find_elements_by_xpath(\"//div[@class='personName']//div\")\n",
    "    for i in weeks_on_board:\n",
    "        weeks_on_board.append(i.text)"
   ]
  },
  {
   "cell_type": "code",
   "execution_count": null,
   "metadata": {},
   "outputs": [],
   "source": [
    "df=pd.DataFrame({\"Song_name\":song_name,\n",
    "                \"Artist_name\":artist_name,\n",
    "                \"Last_week_rank\":last_week_rank,\n",
    "                \"Peak_rank\":peak_rank\n",
    "                 \"Weeks_on_board\":weeks_on_board\n",
    "df"
   ]
  },
  {
   "cell_type": "markdown",
   "metadata": {},
   "source": [
    "Q7. Scrape the details of Data science recruiters from naukri.com.\n",
    "Url = https://www.naukri.com/\n",
    "You have to find the following details:\n",
    "A) Name\n",
    "B) Designation\n",
    "C) Company\n",
    "D) Skills they hire for\n",
    "E) Location\n",
    "Note: - From naukri.com homepage click on the recruiters option and the on the search pane type Data science and \n",
    "click on search. All this should be done through code"
   ]
  },
  {
   "cell_type": "code",
   "execution_count": null,
   "metadata": {},
   "outputs": [],
   "source": [
    "# Activating the chrome browser\n",
    "driver=webdriver.Chrome(r\"C:\\Users\\Shreeya.Dubey\\Downloads\\chromedriver.exe\") "
   ]
  },
  {
   "cell_type": "code",
   "execution_count": null,
   "metadata": {},
   "outputs": [],
   "source": [
    "# Opening the naukri.com\n",
    "url = \"https://www.naukri.com/\"\n",
    "driver.get(url)"
   ]
  },
  {
   "cell_type": "code",
   "execution_count": null,
   "metadata": {},
   "outputs": [],
   "source": [
    "#clicking the 'recriters option' link\n",
    "link = driver.find_element_by_xpath(\"/html/body/div[1]/div[1]/div/ul[1]/li[2]/a/div\")\n",
    "link.click()"
   ]
  },
  {
   "cell_type": "code",
   "execution_count": null,
   "metadata": {},
   "outputs": [],
   "source": [
    "# Finding the search bar using it's xpath\n",
    "search_bar = driver.find_element_by_xpath('/html/body/div[2]/div[2]/div[1]/div[1]/form/div[1]/div/div[1]/div[1]/div[2]/input')    \n",
    "# Inputing the keywords\n",
    "search_bar.send_keys(\"Data science\")    \n",
    "# Finding the xpath of search button\n",
    "search_button = driver.find_element_by_xpath('/html/body/div[2]/div[2]/div[1]/div[1]/form/div[1]/button')  \n",
    "# Clicking the search button\n",
    "search_button.click()        "
   ]
  },
  {
   "cell_type": "code",
   "execution_count": null,
   "metadata": {},
   "outputs": [],
   "source": [
    "#make empty lists\n",
    "name = [] \n",
    "desgination = [] \n",
    "company = [] \n",
    "skills = [] \n",
    "location = []"
   ]
  },
  {
   "cell_type": "code",
   "execution_count": null,
   "metadata": {},
   "outputs": [],
   "source": [
    "while(True):\n",
    "#name\n",
    "    name= driver.find_elements_by_xpath(\"//a[@class='js-selected-navigation-item selected subnav-item']\")\n",
    "    for i in name:\n",
    "        name.append(i.text)"
   ]
  },
  {
   "cell_type": "code",
   "execution_count": null,
   "metadata": {},
   "outputs": [],
   "source": [
    "#desgination\n",
    "    desgination= driver.find_elements_by_xpath(\"//div[@class='/html/body/div[4]/div/div/div[2]/section/div/div/a[1]/div[2]/div[1]/span[2]']\")\n",
    "    for i in desgination:\n",
    "        desgination.append(i.text)"
   ]
  },
  {
   "cell_type": "code",
   "execution_count": null,
   "metadata": {},
   "outputs": [],
   "source": [
    "#company\n",
    "    company= driver.find_elements_by_xpath(\"//div[@class='age']//div\")\n",
    "    for i in company:\n",
    "        company.append(i.text)   "
   ]
  },
  {
   "cell_type": "code",
   "execution_count": null,
   "metadata": {},
   "outputs": [],
   "source": [
    "#skills\n",
    "    skills= driver.find_elements_by_xpath(\"//div[@class='personName']//div\")\n",
    "    for i in skills:\n",
    "        skills.append(i.text)"
   ]
  },
  {
   "cell_type": "code",
   "execution_count": null,
   "metadata": {},
   "outputs": [],
   "source": [
    "#location\n",
    "    location= driver.find_elements_by_xpath(\"//div[@class='personName']//div\")\n",
    "    for i in location:\n",
    "        location.append(i.text)"
   ]
  },
  {
   "cell_type": "code",
   "execution_count": null,
   "metadata": {},
   "outputs": [],
   "source": [
    "df=pd.DataFrame({\"Name\":name,\n",
    "                \"Desgination\":desgination,\n",
    "                \"Company\":company,\n",
    "                \"Skills\":skills,\n",
    "                \"Location\":location\n",
    "df"
   ]
  },
  {
   "cell_type": "markdown",
   "metadata": {},
   "source": [
    "Q8. Scrape the details of Highest selling novels.\n",
    "Url = https://www.theguardian.com\n",
    "You have to find the following details:\n",
    "A) Book name\n",
    "B) Author name\n",
    "C) Volumes sold\n",
    "D) Publisher\n",
    "E) Genre"
   ]
  },
  {
   "cell_type": "code",
   "execution_count": null,
   "metadata": {},
   "outputs": [],
   "source": [
    "# Activating the chrome browser\n",
    "driver=webdriver.Chrome(r\"C:\\Users\\Shreeya.Dubey\\Downloads\\chromedriver.exe\") "
   ]
  },
  {
   "cell_type": "code",
   "execution_count": null,
   "metadata": {},
   "outputs": [],
   "source": [
    "# Opening the details of Highest selling novels\n",
    "url = \"https://www.theguardian.com\"\n",
    "driver.get(url)"
   ]
  },
  {
   "cell_type": "code",
   "execution_count": null,
   "metadata": {},
   "outputs": [],
   "source": [
    "#make empty lists\n",
    "Book_name = [] \n",
    "Author_name = [] \n",
    "Volumes_sold = [] \n",
    "Publisher = [] \n",
    "Genre = []"
   ]
  },
  {
   "cell_type": "code",
   "execution_count": null,
   "metadata": {},
   "outputs": [],
   "source": [
    "while(True):\n",
    "#Book_name\n",
    "    book_name= driver.find_elements_by_xpath(\"//a[@class='js-selected-navigation-item selected subnav-item']\")\n",
    "    for i in book_name:\n",
    "        book_name.append(i.text)"
   ]
  },
  {
   "cell_type": "code",
   "execution_count": null,
   "metadata": {},
   "outputs": [],
   "source": [
    "#Author_name\n",
    "    author_name= driver.find_elements_by_xpath(\"//div[@class='/html/body/div[4]/div/div/div[2]/section/div/div/a[1]/div[2]/div[1]/span[2]']\")\n",
    "    for i in author_name:\n",
    "        author_name.append(i.text)"
   ]
  },
  {
   "cell_type": "code",
   "execution_count": null,
   "metadata": {},
   "outputs": [],
   "source": [
    "#Volumes_sold\n",
    "    volumes_sold= driver.find_elements_by_xpath(\"//div[@class='age']//div\")\n",
    "    for i in volumes_sold:\n",
    "        volumes_sold.append(i.text)   "
   ]
  },
  {
   "cell_type": "code",
   "execution_count": null,
   "metadata": {},
   "outputs": [],
   "source": [
    "#Publisher\n",
    "    publisher= driver.find_elements_by_xpath(\"//div[@class='personName']//div\")\n",
    "    for i in publisher:\n",
    "        publisher.append(i.text)"
   ]
  },
  {
   "cell_type": "code",
   "execution_count": null,
   "metadata": {},
   "outputs": [],
   "source": [
    "#Genre\n",
    "    genre= driver.find_elements_by_xpath(\"//div[@class='personName']//div\")\n",
    "    for i in genre:\n",
    "        genre.append(i.text)"
   ]
  },
  {
   "cell_type": "code",
   "execution_count": null,
   "metadata": {},
   "outputs": [],
   "source": [
    "df=pd.DataFrame({\"Book_name\":book_name,\n",
    "                \"Author_name\":author_name,\n",
    "                \"Volumes_sold\":volumes_sold,\n",
    "                \"Publisher\":publisher\n",
    "                 \"Genre\":genre\n",
    "df"
   ]
  },
  {
   "cell_type": "markdown",
   "metadata": {},
   "source": [
    "Q9. Scrape the details most watched tv series of all time from imdb.com.\n",
    " Url = https://www.imdb.com/list/ls095964455/\n",
    "You have to find the following details:\n",
    "A) Name\n",
    "B) Year span\n",
    "C) Genre\n",
    "D) Run time\n",
    "E) Ratings\n",
    "F) Votes"
   ]
  },
  {
   "cell_type": "code",
   "execution_count": null,
   "metadata": {},
   "outputs": [],
   "source": [
    "# Activating the chrome browser\n",
    "driver=webdriver.Chrome(r\"C:\\Users\\Shreeya.Dubey\\Downloads\\chromedriver.exe\") "
   ]
  },
  {
   "cell_type": "code",
   "execution_count": null,
   "metadata": {},
   "outputs": [],
   "source": [
    "# Opening imdb.com\n",
    "url = \"https://www.imdb.com/list/ls095964455/\"\n",
    "driver.get(url)"
   ]
  },
  {
   "cell_type": "code",
   "execution_count": null,
   "metadata": {},
   "outputs": [],
   "source": [
    "#make empty lists\n",
    "Name = [] \n",
    "Year_span = [] \n",
    "Genre = [] \n",
    "Run_time = [] \n",
    "Ratings = []\n",
    "Votes = []"
   ]
  },
  {
   "cell_type": "code",
   "execution_count": null,
   "metadata": {},
   "outputs": [],
   "source": [
    "try:\n",
    "\n",
    "    names=driver.find_elements_by_xpath(\"//h3[@class='lister-item-header']/a\")\n",
    "\n",
    "    for i in names:\n",
    "\n",
    "        name.append(i.text)\n",
    "\n",
    "except NoSuchElementException:#handling no such element exception\n",
    "\n",
    "    name.append('No details available')"
   ]
  },
  {
   "cell_type": "code",
   "execution_count": null,
   "metadata": {},
   "outputs": [],
   "source": [
    "#name\n",
    "name= driver.find_elements_by_xpath(\"//h3[@class='lister-item-header']/a\")\n",
    "for i in name:\n",
    "        name.append(i.text)"
   ]
  },
  {
   "cell_type": "code",
   "execution_count": null,
   "metadata": {},
   "outputs": [],
   "source": [
    "#Year_span\n",
    "    Years= driver.find_elements_by_xpath(\"/html/body/div[4]/div/div[2]/div[3]/div[1]/div/div[3]/div[3]/div[1]/div[2]/h3/span[2]\")\n",
    "    for i in Years:\n",
    "        Years.append(i.text)"
   ]
  },
  {
   "cell_type": "code",
   "execution_count": null,
   "metadata": {},
   "outputs": [],
   "source": [
    "#Genre\n",
    "    genre= driver.find_elements_by_xpath(\"/html/body/div[4]/div/div[2]/div[3]/div[1]/div/div[3]/div[3]/div[1]/div[2]/p[1]/span[5]\")\n",
    "    for i in genre:\n",
    "        genre.append(i.text)   "
   ]
  },
  {
   "cell_type": "code",
   "execution_count": null,
   "metadata": {},
   "outputs": [],
   "source": [
    "#Run_time\n",
    "    run_time= driver.find_elements_by_xpath(\"/html/body/div[4]/div/div[2]/div[3]/div[1]/div/div[3]/div[3]/div[1]/div[2]/p[1]/span[3]\")\n",
    "    for i in run_time:\n",
    "        run_time.append(i.text)"
   ]
  },
  {
   "cell_type": "code",
   "execution_count": null,
   "metadata": {},
   "outputs": [],
   "source": [
    "#Ratings\n",
    "    ratings= driver.find_elements_by_xpath(\"/html/body/div[4]/div/div[2]/div[3]/div[1]/div/div[3]/div[3]/div[1]/div[2]/div[1]/div[1]/span[2]\")\n",
    "    for i in ratings:\n",
    "        ratings.append(i.text)"
   ]
  },
  {
   "cell_type": "code",
   "execution_count": null,
   "metadata": {},
   "outputs": [],
   "source": [
    "#Votes\n",
    "    votes= driver.find_elements_by_xpath(\"/html/body/div[4]/div/div[2]/div[3]/div[1]/div/div[3]/div[3]/div[1]/div[2]/p[4]/span[2]\")\n",
    "    for i in votes:\n",
    "        votes.append(i.text)"
   ]
  },
  {
   "cell_type": "code",
   "execution_count": null,
   "metadata": {},
   "outputs": [],
   "source": [
    "df=pd.DataFrame({\"Name\":name,\n",
    "                \"Year_span\":Years,\n",
    "                \"Genre\":genre,\n",
    "                \"Run_time\":run_time\n",
    "                 \"Ratings\":ratings\n",
    "                 \"Votes\":votes\n",
    "df"
   ]
  },
  {
   "cell_type": "markdown",
   "metadata": {},
   "source": [
    "Q10. Details of Datasets from UCI machine learning repositories.\n",
    " Url = https://archive.ics.uci.edu/\n",
    " You have to find the following details:\n",
    "A) Dataset name\n",
    "B) Data type\n",
    "C) Task\n",
    "D) Attribute type\n",
    "E) No of instances\n",
    "F) No of attribute\n",
    "G) Year\n",
    "Note: - from the home page you have to go to the Show All Dataset page through code"
   ]
  },
  {
   "cell_type": "code",
   "execution_count": null,
   "metadata": {},
   "outputs": [],
   "source": [
    "# Activating the chrome browser\n",
    "driver=webdriver.Chrome(r\"C:\\Users\\Shreeya.Dubey\\Downloads\\chromedriver.exe\") "
   ]
  },
  {
   "cell_type": "code",
   "execution_count": null,
   "metadata": {},
   "outputs": [],
   "source": [
    "# Opening UCI archive\n",
    "url = \"https://archive.ics.uci.edu/\"\n",
    "driver.get(url)"
   ]
  },
  {
   "cell_type": "code",
   "execution_count": null,
   "metadata": {},
   "outputs": [],
   "source": [
    "#make empty lists\n",
    "Dataset_name = [] \n",
    "Data_type = [] \n",
    "Task = [] \n",
    "Attribute_type = [] \n",
    "No_of_instances = []\n",
    "No_of_attribute = []\n",
    "Year = []"
   ]
  },
  {
   "cell_type": "code",
   "execution_count": null,
   "metadata": {},
   "outputs": [],
   "source": [
    "while(True):\n",
    "#dataset_name\n",
    "    dataset_name= driver.find_elements_by_xpath(\"//*[@id=\"main\"]/div/div[3]/div[3]/div[1]/div[2]/h3/a\")\n",
    "    for i in dataset_name:\n",
    "        dataset_name.append(i.text)"
   ]
  },
  {
   "cell_type": "code",
   "execution_count": null,
   "metadata": {},
   "outputs": [],
   "source": [
    "#data_type\n",
    "    data_type= driver.find_elements_by_xpath(\"/html/body/div[4]/div/div[2]/div[3]/div[1]/div/div[3]/div[3]/div[1]/div[2]/h3/span[2]\")\n",
    "    for i in data_type:\n",
    "        data_type.append(i.text)"
   ]
  },
  {
   "cell_type": "code",
   "execution_count": null,
   "metadata": {},
   "outputs": [],
   "source": [
    "#task\n",
    "    task= driver.find_elements_by_xpath(\"/html/body/div[4]/div/div[2]/div[3]/div[1]/div/div[3]/div[3]/div[1]/div[2]/p[1]/span[5]\")\n",
    "    for i in task:\n",
    "        task.append(i.text)   "
   ]
  },
  {
   "cell_type": "code",
   "execution_count": null,
   "metadata": {},
   "outputs": [],
   "source": [
    "#attribute_type\n",
    "    attribute_type= driver.find_elements_by_xpath(\"/html/body/div[4]/div/div[2]/div[3]/div[1]/div/div[3]/div[3]/div[1]/div[2]/p[1]/span[3]\")\n",
    "    for i in attribute_type:\n",
    "        attribute_type.append(i.text)"
   ]
  },
  {
   "cell_type": "code",
   "execution_count": null,
   "metadata": {},
   "outputs": [],
   "source": [
    "#no_of_instances\n",
    "    no_of_instances= driver.find_elements_by_xpath(\"/html/body/div[4]/div/div[2]/div[3]/div[1]/div/div[3]/div[3]/div[1]/div[2]/div[1]/div[1]/span[2]\")\n",
    "    for i in no_of_instances:\n",
    "        no_of_instances.append(i.text)"
   ]
  },
  {
   "cell_type": "code",
   "execution_count": null,
   "metadata": {},
   "outputs": [],
   "source": [
    "#no_of_attribute\n",
    "    no_of_attribute= driver.find_elements_by_xpath(\"/html/body/div[4]/div/div[2]/div[3]/div[1]/div/div[3]/div[3]/div[1]/div[2]/p[4]/span[2]\")\n",
    "    for i in no_of_attribute:\n",
    "        no_of_attribute.append(i.text)"
   ]
  },
  {
   "cell_type": "code",
   "execution_count": null,
   "metadata": {},
   "outputs": [],
   "source": [
    "#year\n",
    "    year= driver.find_elements_by_xpath(\"/html/body/div[4]/div/div[2]/div[3]/div[1]/div/div[3]/div[3]/div[1]/div[2]/p[4]/span[2]\")\n",
    "    for i in year:\n",
    "        year.append(i.text)"
   ]
  },
  {
   "cell_type": "code",
   "execution_count": null,
   "metadata": {},
   "outputs": [],
   "source": [
    "df=pd.DataFrame({\"dataset_name\":dataset_name,\n",
    "                \"data_type\":data_type,\n",
    "                \"task\":task,\n",
    "                \"attribute_type\":attribute_type\n",
    "                 \"no_of_instances\":no_of_instances\n",
    "                 \"no_of_attribute\":no_of_attribute\n",
    "                 \"year\":year\n",
    "df"
   ]
  },
  {
   "cell_type": "code",
   "execution_count": null,
   "metadata": {},
   "outputs": [],
   "source": []
  },
  {
   "cell_type": "code",
   "execution_count": null,
   "metadata": {},
   "outputs": [],
   "source": []
  },
  {
   "cell_type": "code",
   "execution_count": null,
   "metadata": {},
   "outputs": [],
   "source": []
  },
  {
   "cell_type": "code",
   "execution_count": null,
   "metadata": {},
   "outputs": [],
   "source": []
  }
 ],
 "metadata": {
  "kernelspec": {
   "display_name": "Python 3",
   "language": "python",
   "name": "python3"
  },
  "language_info": {
   "codemirror_mode": {
    "name": "ipython",
    "version": 3
   },
   "file_extension": ".py",
   "mimetype": "text/x-python",
   "name": "python",
   "nbconvert_exporter": "python",
   "pygments_lexer": "ipython3",
   "version": "3.7.6"
  }
 },
 "nbformat": 4,
 "nbformat_minor": 4
}
